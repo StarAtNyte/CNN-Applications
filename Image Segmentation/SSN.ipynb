{
  "nbformat": 4,
  "nbformat_minor": 0,
  "metadata": {
    "colab": {
      "provenance": []
    },
    "kernelspec": {
      "name": "python3",
      "display_name": "Python 3"
    },
    "language_info": {
      "name": "python"
    }
  },
  "cells": [
    {
      "cell_type": "code",
      "execution_count": null,
      "metadata": {
        "colab": {
          "base_uri": "https://localhost:8080/"
        },
        "id": "CK44OSA1KhQv",
        "outputId": "4964f1da-bd63-4f9c-e0ef-c23b254b1add"
      },
      "outputs": [
        {
          "output_type": "stream",
          "name": "stdout",
          "text": [
            "Looking in indexes: https://pypi.org/simple, https://us-python.pkg.dev/colab-wheels/public/simple/\n",
            "Collecting azure-cognitiveservices-vision-computervision\n",
            "  Downloading azure_cognitiveservices_vision_computervision-0.9.0-py2.py3-none-any.whl (39 kB)\n",
            "Collecting msrest>=0.5.0 (from azure-cognitiveservices-vision-computervision)\n",
            "  Downloading msrest-0.7.1-py3-none-any.whl (85 kB)\n",
            "\u001b[2K     \u001b[90m━━━━━━━━━━━━━━━━━━━━━━━━━━━━━━━━━━━━━━━━\u001b[0m \u001b[32m85.4/85.4 kB\u001b[0m \u001b[31m3.9 MB/s\u001b[0m eta \u001b[36m0:00:00\u001b[0m\n",
            "\u001b[?25hCollecting azure-common~=1.1 (from azure-cognitiveservices-vision-computervision)\n",
            "  Downloading azure_common-1.1.28-py2.py3-none-any.whl (14 kB)\n",
            "Collecting azure-core>=1.24.0 (from msrest>=0.5.0->azure-cognitiveservices-vision-computervision)\n",
            "  Downloading azure_core-1.26.4-py3-none-any.whl (173 kB)\n",
            "\u001b[2K     \u001b[90m━━━━━━━━━━━━━━━━━━━━━━━━━━━━━━━━━━━━━━\u001b[0m \u001b[32m173.9/173.9 kB\u001b[0m \u001b[31m10.1 MB/s\u001b[0m eta \u001b[36m0:00:00\u001b[0m\n",
            "\u001b[?25hRequirement already satisfied: certifi>=2017.4.17 in /usr/local/lib/python3.10/dist-packages (from msrest>=0.5.0->azure-cognitiveservices-vision-computervision) (2022.12.7)\n",
            "Collecting isodate>=0.6.0 (from msrest>=0.5.0->azure-cognitiveservices-vision-computervision)\n",
            "  Downloading isodate-0.6.1-py2.py3-none-any.whl (41 kB)\n",
            "\u001b[2K     \u001b[90m━━━━━━━━━━━━━━━━━━━━━━━━━━━━━━━━━━━━━━━━\u001b[0m \u001b[32m41.7/41.7 kB\u001b[0m \u001b[31m4.5 MB/s\u001b[0m eta \u001b[36m0:00:00\u001b[0m\n",
            "\u001b[?25hRequirement already satisfied: requests-oauthlib>=0.5.0 in /usr/local/lib/python3.10/dist-packages (from msrest>=0.5.0->azure-cognitiveservices-vision-computervision) (1.3.1)\n",
            "Requirement already satisfied: requests~=2.16 in /usr/local/lib/python3.10/dist-packages (from msrest>=0.5.0->azure-cognitiveservices-vision-computervision) (2.27.1)\n",
            "Requirement already satisfied: six>=1.11.0 in /usr/local/lib/python3.10/dist-packages (from azure-core>=1.24.0->msrest>=0.5.0->azure-cognitiveservices-vision-computervision) (1.16.0)\n",
            "Requirement already satisfied: typing-extensions>=4.3.0 in /usr/local/lib/python3.10/dist-packages (from azure-core>=1.24.0->msrest>=0.5.0->azure-cognitiveservices-vision-computervision) (4.5.0)\n",
            "Requirement already satisfied: urllib3<1.27,>=1.21.1 in /usr/local/lib/python3.10/dist-packages (from requests~=2.16->msrest>=0.5.0->azure-cognitiveservices-vision-computervision) (1.26.15)\n",
            "Requirement already satisfied: charset-normalizer~=2.0.0 in /usr/local/lib/python3.10/dist-packages (from requests~=2.16->msrest>=0.5.0->azure-cognitiveservices-vision-computervision) (2.0.12)\n",
            "Requirement already satisfied: idna<4,>=2.5 in /usr/local/lib/python3.10/dist-packages (from requests~=2.16->msrest>=0.5.0->azure-cognitiveservices-vision-computervision) (3.4)\n",
            "Requirement already satisfied: oauthlib>=3.0.0 in /usr/local/lib/python3.10/dist-packages (from requests-oauthlib>=0.5.0->msrest>=0.5.0->azure-cognitiveservices-vision-computervision) (3.2.2)\n",
            "Installing collected packages: azure-common, isodate, azure-core, msrest, azure-cognitiveservices-vision-computervision\n",
            "Successfully installed azure-cognitiveservices-vision-computervision-0.9.0 azure-common-1.1.28 azure-core-1.26.4 isodate-0.6.1 msrest-0.7.1\n"
          ]
        }
      ],
      "source": [
        "!pip install --upgrade azure-cognitiveservices-vision-computervision"
      ]
    },
    {
      "cell_type": "code",
      "source": [
        "!pip install pillow"
      ],
      "metadata": {
        "colab": {
          "base_uri": "https://localhost:8080/"
        },
        "id": "Ez8bjPcJKibJ",
        "outputId": "44a9f275-6418-4860-98ee-fcea7935d99b"
      },
      "execution_count": null,
      "outputs": [
        {
          "output_type": "stream",
          "name": "stdout",
          "text": [
            "Looking in indexes: https://pypi.org/simple, https://us-python.pkg.dev/colab-wheels/public/simple/\n",
            "Requirement already satisfied: pillow in /usr/local/lib/python3.10/dist-packages (8.4.0)\n"
          ]
        }
      ]
    },
    {
      "cell_type": "code",
      "source": [
        "from azure.cognitiveservices.vision.computervision import ComputerVisionClient\n",
        "from azure.cognitiveservices.vision.computervision.models import OperationStatusCodes\n",
        "from azure.cognitiveservices.vision.computervision.models import VisualFeatureTypes\n",
        "from msrest.authentication import CognitiveServicesCredentials\n",
        "\n",
        "from array import array\n",
        "import os\n",
        "from PIL import Image\n",
        "import sys\n",
        "import time\n",
        "\n",
        "'''\n",
        "Authenticate\n",
        "Authenticates your credentials and creates a client.\n",
        "'''\n",
        "subscription_key = \"<insert subscription key here>\"\n",
        "endpoint = \"<insert your service endpoint>\"\n",
        "img_url = \"<url to image here>\"\n",
        "def getText(subscription_key, endpoint, img_url):\n",
        "  computervision_client = ComputerVisionClient(endpoint, CognitiveServicesCredentials(subscription_key))\n",
        "  '''\n",
        "  END - Authenticate\n",
        "  '''\n",
        "\n",
        "  '''\n",
        "  OCR: Read File using the Read API, extract text - remote\n",
        "  This example will extract text in an image, then print results, line by line.\n",
        "  This API call can also extract handwriting style text (not shown).\n",
        "  '''\n",
        "  print(\"===== Read File - remote =====\")\n",
        "  # Get an image with text\n",
        "  read_image_url = img_url\n",
        "\n",
        "  # Call API with URL and raw response (allows you to get the operation location)\n",
        "  read_response = computervision_client.read(read_image_url,  raw=True)\n",
        "\n",
        "  # Get the operation location (URL with an ID at the end) from the response\n",
        "  read_operation_location = read_response.headers[\"Operation-Location\"]\n",
        "  # Grab the ID from the URL\n",
        "  operation_id = read_operation_location.split(\"/\")[-1]\n",
        "\n",
        "  # Call the \"GET\" API and wait for it to retrieve the results \n",
        "  while True:\n",
        "      read_result = computervision_client.get_read_result(operation_id)\n",
        "      if read_result.status not in ['notStarted', 'running']:\n",
        "          break\n",
        "      time.sleep(1)\n",
        "\n",
        "  # Print the detected text, line by line\n",
        "  texts = []\n",
        "  if read_result.status == OperationStatusCodes.succeeded:\n",
        "      for text_result in read_result.analyze_result.read_results:\n",
        "          for line in text_result.lines:\n",
        "              texts.append(line.text)\n",
        "\n",
        "  return texts"
      ],
      "metadata": {
        "id": "OHdlY1ZqKpt_"
      },
      "execution_count": null,
      "outputs": []
    },
    {
      "cell_type": "code",
      "source": [
        "texts = getText(subscription_key, endpoint, img_url)"
      ],
      "metadata": {
        "colab": {
          "base_uri": "https://localhost:8080/"
        },
        "id": "BwhXpAcKT1FH",
        "outputId": "85d733dc-e16a-4966-ea85-41a9c8398622"
      },
      "execution_count": null,
      "outputs": [
        {
          "output_type": "stream",
          "name": "stdout",
          "text": [
            "===== Read File - remote =====\n"
          ]
        }
      ]
    },
    {
      "cell_type": "code",
      "source": [
        "texts"
      ],
      "metadata": {
        "colab": {
          "base_uri": "https://localhost:8080/"
        },
        "id": "jIZBSbbfT_M5",
        "outputId": "751a8129-f4ae-4c79-e71e-ac04b4a8ca5b"
      },
      "execution_count": null,
      "outputs": [
        {
          "output_type": "execute_result",
          "data": {
            "text/plain": [
              "['DEPARTMENT OF STATE',\n",
              " 'CEPTIS',\n",
              " 'A',\n",
              " 'FOREIGN SERVICE OF THE UNITED STATES OF AMERICA',\n",
              " 'ANNUIT',\n",
              " 'Certification of Birth Abrnad',\n",
              " 'of a Citizen of the United States of America',\n",
              " 'This is to certify that according to records on file in this Office',\n",
              " 'Sex',\n",
              " 'MALE',\n",
              " 'was born at',\n",
              " 'US NAVAL HOSPITAL, OKINAWA, JAPAN',\n",
              " '071',\n",
              " 'AUGUST 13, 1990',\n",
              " 'Report of birth recorded on',\n",
              " 'SEPTEMBER 14, 1990',\n",
              " 'In Witness Whereof, I have hereunto subscribed my name and affixed the seat of the Consular Service of the United States',\n",
              " 'of America at',\n",
              " 'NAHA, JAPAN',\n",
              " 'this',\n",
              " '14TH',\n",
              " 'day of',\n",
              " '_SEPTEMBER',\n",
              " '19.90',\n",
              " '(SEAL)',\n",
              " 'CONSUL _ of the United States of America',\n",
              " 'WARNING: This certificate is not valid if it has been altered in any way whatsoever or if it does not bear the raised seal of the',\n",
              " 'office of Issuance.',\n",
              " 'Form FS-545',\n",
              " '10-75597-2',\n",
              " 'GPO',\n",
              " '1-73']"
            ]
          },
          "metadata": {},
          "execution_count": 36
        }
      ]
    },
    {
      "cell_type": "code",
      "source": [
        "#checks if text extracted belong to a social security card\n",
        "def isSocialSecurity(texts):\n",
        "  for text in texts:\n",
        "    if \"SOCIAL SECURITY\" in text:\n",
        "      return True\n",
        "  return False"
      ],
      "metadata": {
        "id": "8g3jd8D6Sv6G"
      },
      "execution_count": null,
      "outputs": []
    },
    {
      "cell_type": "code",
      "source": [
        "isSocialSecurity(texts)"
      ],
      "metadata": {
        "colab": {
          "base_uri": "https://localhost:8080/"
        },
        "id": "GfwhvYkkUr_m",
        "outputId": "4fed9190-b89a-4e0b-fe03-f3dcd002b51d"
      },
      "execution_count": null,
      "outputs": [
        {
          "output_type": "execute_result",
          "data": {
            "text/plain": [
              "True"
            ]
          },
          "metadata": {},
          "execution_count": 28
        }
      ]
    },
    {
      "cell_type": "code",
      "source": [
        "def getSSCDetails(texts):\n",
        "  info = {}\n",
        "  info['Document Type'] = 'Social Security Card'\n",
        "  ssn_probable = [text for text in texts if \\\n",
        "              all([len(text) == 11,\n",
        "                  text[:3].isdigit(),\n",
        "                  text[3] == '-',\n",
        "                  text[4:6].isdigit(),\n",
        "                  text[6] == '-',\n",
        "                  text[-4:].isdigit()\n",
        "              ])]\n",
        "  \n",
        "  if len(ssn_probable) == 1:\n",
        "    info['ssn'] = ssn_probable[0]\n",
        "\n",
        "  return info"
      ],
      "metadata": {
        "id": "sVeVflV7U4zC"
      },
      "execution_count": null,
      "outputs": []
    },
    {
      "cell_type": "code",
      "source": [
        "sscdetails = getSSCDetails(texts)"
      ],
      "metadata": {
        "id": "J4VLbpoucbWa"
      },
      "execution_count": null,
      "outputs": []
    },
    {
      "cell_type": "code",
      "source": [
        "sscdetails"
      ],
      "metadata": {
        "colab": {
          "base_uri": "https://localhost:8080/"
        },
        "id": "ViPJUBhOc_Jy",
        "outputId": "6836c7f0-6502-40f7-99f1-8573ee4babd9"
      },
      "execution_count": null,
      "outputs": [
        {
          "output_type": "execute_result",
          "data": {
            "text/plain": [
              "{'ssn': '562-14-5542'}"
            ]
          },
          "metadata": {},
          "execution_count": 33
        }
      ]
    },
    {
      "cell_type": "code",
      "source": [
        "def isBirthCertificate(texts):\n",
        "  for text in texts:\n",
        "    if \"birth certifiacte\" in text  or \"certification of birth\" in text or \"was born\" in text:\n",
        "      return True\n",
        "  return False"
      ],
      "metadata": {
        "id": "AQLG4BMbioxM"
      },
      "execution_count": null,
      "outputs": []
    },
    {
      "cell_type": "code",
      "source": [
        "check_texts = []\n",
        "def getBirthCDetails(texts):\n",
        "  flag = False\n",
        "  info = {}\n",
        "  info['Document Type'] = 'Birth Certificate'\n",
        "  months = ['January', 'February', 'March', 'April', 'May', 'June', 'July', 'August', 'September', 'October', 'November', 'December']\n",
        "  years = [*range(1800,2023)]\n",
        "  for text in texts:\n",
        "    check_texts.append(text)\n",
        "    if \"MALE\" in text.upper(): \n",
        "      info['sex'] = \"MALE\"\n",
        "\n",
        "    if \"FEMALE\" in text.upper():\n",
        "      info['sex'] = \"FEMALE\"\n",
        "\n",
        "    for month in months:\n",
        "      if month.upper() in text.upper():\n",
        "        for year in years:\n",
        "          if str(year) in text:\n",
        "            for check_text in check_texts:\n",
        "              if 'WAS BORN' in check_text.upper():\n",
        "                flag = True\n",
        "                info['DOB'] = text.upper()\n",
        "      if flag:\n",
        "        break\n",
        "  \n",
        "  return info\n"
      ],
      "metadata": {
        "id": "udzjGsawi4ZG"
      },
      "execution_count": null,
      "outputs": []
    },
    {
      "cell_type": "code",
      "source": [
        "def pipeline(img_url):\n",
        "  texts = getText(subscription_key, endpoint, img_url)\n",
        "  if isSocialSecurity(texts):\n",
        "    info = getSSCDetails(texts)\n",
        "    if info != {}:\n",
        "      return info\n",
        "\n",
        "  if isBirthCertificate(texts):\n",
        "    info = getBirthCDetails(texts)\n",
        "    if info != {}:\n",
        "      return info"
      ],
      "metadata": {
        "id": "KXemu63VcwN2"
      },
      "execution_count": null,
      "outputs": []
    },
    {
      "cell_type": "code",
      "source": [
        "info = pipeline(img_url)"
      ],
      "metadata": {
        "colab": {
          "base_uri": "https://localhost:8080/"
        },
        "id": "Ja4YiSOinLxP",
        "outputId": "e8e706c2-064a-4db1-c558-6f0cdbf31d8e"
      },
      "execution_count": null,
      "outputs": [
        {
          "output_type": "stream",
          "name": "stdout",
          "text": [
            "===== Read File - remote =====\n"
          ]
        }
      ]
    },
    {
      "cell_type": "code",
      "source": [
        "info"
      ],
      "metadata": {
        "colab": {
          "base_uri": "https://localhost:8080/"
        },
        "id": "eepb_l6DnPPt",
        "outputId": "f4be3cc3-f017-4fa3-87ec-55810cc16b16"
      },
      "execution_count": null,
      "outputs": [
        {
          "output_type": "execute_result",
          "data": {
            "text/plain": [
              "{'Document Type': 'Birth Certificate', 'sex': 'MALE', 'DOB': 'AUGUST 13, 1990'}"
            ]
          },
          "metadata": {},
          "execution_count": 109
        }
      ]
    }
  ]
}